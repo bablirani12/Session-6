{
 "cells": [
  {
   "cell_type": "markdown",
   "id": "092925bb",
   "metadata": {},
   "source": [
    "# String function in Python"
   ]
  },
  {
   "cell_type": "code",
   "execution_count": 1,
   "id": "8c2d4b5d",
   "metadata": {},
   "outputs": [],
   "source": [
    "word1=\"machine\""
   ]
  },
  {
   "cell_type": "code",
   "execution_count": 3,
   "id": "795f1cb9",
   "metadata": {},
   "outputs": [],
   "source": [
    "word2=\"computer\""
   ]
  },
  {
   "cell_type": "code",
   "execution_count": 2,
   "id": "fcfd5e94",
   "metadata": {},
   "outputs": [
    {
     "data": {
      "text/plain": [
       "'MACHINE'"
      ]
     },
     "execution_count": 2,
     "metadata": {},
     "output_type": "execute_result"
    }
   ],
   "source": [
    "word1.upper()"
   ]
  },
  {
   "cell_type": "code",
   "execution_count": 19,
   "id": "b586f5b1",
   "metadata": {},
   "outputs": [
    {
     "data": {
      "text/plain": [
       "False"
      ]
     },
     "execution_count": 19,
     "metadata": {},
     "output_type": "execute_result"
    }
   ],
   "source": [
    "word1.isupper()"
   ]
  },
  {
   "cell_type": "code",
   "execution_count": 20,
   "id": "58cd6025",
   "metadata": {},
   "outputs": [
    {
     "data": {
      "text/plain": [
       "True"
      ]
     },
     "execution_count": 20,
     "metadata": {},
     "output_type": "execute_result"
    }
   ],
   "source": [
    "word1.islower()"
   ]
  },
  {
   "cell_type": "code",
   "execution_count": 4,
   "id": "8b5d5b23",
   "metadata": {},
   "outputs": [
    {
     "data": {
      "text/plain": [
       "'COMPUTER'"
      ]
     },
     "execution_count": 4,
     "metadata": {},
     "output_type": "execute_result"
    }
   ],
   "source": [
    "word2.upper()"
   ]
  },
  {
   "cell_type": "code",
   "execution_count": 5,
   "id": "25bd6ba8",
   "metadata": {},
   "outputs": [],
   "source": [
    "a=\"DATASCIENCE\""
   ]
  },
  {
   "cell_type": "code",
   "execution_count": 6,
   "id": "5ce72515",
   "metadata": {},
   "outputs": [
    {
     "data": {
      "text/plain": [
       "'datascience'"
      ]
     },
     "execution_count": 6,
     "metadata": {},
     "output_type": "execute_result"
    }
   ],
   "source": [
    "a.lower()"
   ]
  },
  {
   "cell_type": "code",
   "execution_count": 21,
   "id": "ab60e327",
   "metadata": {},
   "outputs": [
    {
     "data": {
      "text/plain": [
       "'DATASCIENCE'"
      ]
     },
     "execution_count": 21,
     "metadata": {},
     "output_type": "execute_result"
    }
   ],
   "source": [
    "a"
   ]
  },
  {
   "cell_type": "code",
   "execution_count": 22,
   "id": "3aafcede",
   "metadata": {},
   "outputs": [
    {
     "data": {
      "text/plain": [
       "True"
      ]
     },
     "execution_count": 22,
     "metadata": {},
     "output_type": "execute_result"
    }
   ],
   "source": [
    "a.isupper()"
   ]
  },
  {
   "cell_type": "code",
   "execution_count": 23,
   "id": "8bfba5b1",
   "metadata": {},
   "outputs": [
    {
     "data": {
      "text/plain": [
       "False"
      ]
     },
     "execution_count": 23,
     "metadata": {},
     "output_type": "execute_result"
    }
   ],
   "source": [
    "a.islower()"
   ]
  },
  {
   "cell_type": "code",
   "execution_count": 7,
   "id": "039b0618",
   "metadata": {},
   "outputs": [],
   "source": [
    "b=\"ARTIFICAL\""
   ]
  },
  {
   "cell_type": "code",
   "execution_count": 8,
   "id": "92b8743c",
   "metadata": {},
   "outputs": [
    {
     "data": {
      "text/plain": [
       "'artifical'"
      ]
     },
     "execution_count": 8,
     "metadata": {},
     "output_type": "execute_result"
    }
   ],
   "source": [
    "b.lower()"
   ]
  },
  {
   "cell_type": "code",
   "execution_count": 9,
   "id": "8c75dc73",
   "metadata": {},
   "outputs": [],
   "source": [
    "p=\"InTelliGenCe\""
   ]
  },
  {
   "cell_type": "code",
   "execution_count": 10,
   "id": "d12335aa",
   "metadata": {},
   "outputs": [
    {
     "data": {
      "text/plain": [
       "'iNtELLIgENcE'"
      ]
     },
     "execution_count": 10,
     "metadata": {},
     "output_type": "execute_result"
    }
   ],
   "source": [
    "p.swapcase()"
   ]
  },
  {
   "cell_type": "code",
   "execution_count": 11,
   "id": "8f8957d8",
   "metadata": {},
   "outputs": [],
   "source": [
    "p1=\"DaTaSciEnCe\""
   ]
  },
  {
   "cell_type": "code",
   "execution_count": 13,
   "id": "506e2f65",
   "metadata": {},
   "outputs": [
    {
     "data": {
      "text/plain": [
       "'dAtAsCIeNcE'"
      ]
     },
     "execution_count": 13,
     "metadata": {},
     "output_type": "execute_result"
    }
   ],
   "source": [
    "p1.swapcase()"
   ]
  },
  {
   "cell_type": "code",
   "execution_count": 14,
   "id": "68366682",
   "metadata": {},
   "outputs": [],
   "source": [
    "d=\"tesla\""
   ]
  },
  {
   "cell_type": "code",
   "execution_count": 15,
   "id": "ef2c68c3",
   "metadata": {},
   "outputs": [
    {
     "data": {
      "text/plain": [
       "'Tesla'"
      ]
     },
     "execution_count": 15,
     "metadata": {},
     "output_type": "execute_result"
    }
   ],
   "source": [
    "d.capitalize()"
   ]
  },
  {
   "cell_type": "code",
   "execution_count": 16,
   "id": "da58fa7c",
   "metadata": {},
   "outputs": [],
   "source": [
    "d1=\"elon musk soon holds twiter\""
   ]
  },
  {
   "cell_type": "code",
   "execution_count": 17,
   "id": "134a37bc",
   "metadata": {},
   "outputs": [
    {
     "data": {
      "text/plain": [
       "'Elon Musk Soon Holds Twiter'"
      ]
     },
     "execution_count": 17,
     "metadata": {},
     "output_type": "execute_result"
    }
   ],
   "source": [
    "d1.title()"
   ]
  },
  {
   "cell_type": "code",
   "execution_count": 18,
   "id": "558d819b",
   "metadata": {},
   "outputs": [
    {
     "data": {
      "text/plain": [
       "['elon', 'musk', 'soon', 'holds', 'twiter']"
      ]
     },
     "execution_count": 18,
     "metadata": {},
     "output_type": "execute_result"
    }
   ],
   "source": [
    "d1.split()"
   ]
  },
  {
   "cell_type": "code",
   "execution_count": 24,
   "id": "a56f879d",
   "metadata": {},
   "outputs": [
    {
     "data": {
      "text/plain": [
       "'tesla'"
      ]
     },
     "execution_count": 24,
     "metadata": {},
     "output_type": "execute_result"
    }
   ],
   "source": [
    "d"
   ]
  },
  {
   "cell_type": "code",
   "execution_count": 25,
   "id": "91e8732e",
   "metadata": {},
   "outputs": [
    {
     "data": {
      "text/plain": [
       "True"
      ]
     },
     "execution_count": 25,
     "metadata": {},
     "output_type": "execute_result"
    }
   ],
   "source": [
    "d.isalpha()"
   ]
  },
  {
   "cell_type": "code",
   "execution_count": 26,
   "id": "e56fce3d",
   "metadata": {},
   "outputs": [],
   "source": [
    "b1=\"Apple123\""
   ]
  },
  {
   "cell_type": "code",
   "execution_count": 27,
   "id": "03b5d710",
   "metadata": {},
   "outputs": [
    {
     "data": {
      "text/plain": [
       "'Apple123'"
      ]
     },
     "execution_count": 27,
     "metadata": {},
     "output_type": "execute_result"
    }
   ],
   "source": [
    "b1"
   ]
  },
  {
   "cell_type": "code",
   "execution_count": 28,
   "id": "25413201",
   "metadata": {},
   "outputs": [
    {
     "data": {
      "text/plain": [
       "True"
      ]
     },
     "execution_count": 28,
     "metadata": {},
     "output_type": "execute_result"
    }
   ],
   "source": [
    "b1.isalnum()"
   ]
  },
  {
   "cell_type": "code",
   "execution_count": 29,
   "id": "872db1df",
   "metadata": {},
   "outputs": [],
   "source": [
    "c1=\"78965\""
   ]
  },
  {
   "cell_type": "code",
   "execution_count": 30,
   "id": "6cb20117",
   "metadata": {},
   "outputs": [
    {
     "data": {
      "text/plain": [
       "'78965'"
      ]
     },
     "execution_count": 30,
     "metadata": {},
     "output_type": "execute_result"
    }
   ],
   "source": [
    "c1"
   ]
  },
  {
   "cell_type": "code",
   "execution_count": 31,
   "id": "d5a59846",
   "metadata": {},
   "outputs": [
    {
     "data": {
      "text/plain": [
       "False"
      ]
     },
     "execution_count": 31,
     "metadata": {},
     "output_type": "execute_result"
    }
   ],
   "source": [
    "c1.isalpha()"
   ]
  },
  {
   "cell_type": "code",
   "execution_count": 32,
   "id": "f854b2eb",
   "metadata": {},
   "outputs": [
    {
     "data": {
      "text/plain": [
       "True"
      ]
     },
     "execution_count": 32,
     "metadata": {},
     "output_type": "execute_result"
    }
   ],
   "source": [
    "c1.isdigit()"
   ]
  },
  {
   "cell_type": "code",
   "execution_count": 33,
   "id": "86c6d5b6",
   "metadata": {},
   "outputs": [
    {
     "data": {
      "text/plain": [
       "True"
      ]
     },
     "execution_count": 33,
     "metadata": {},
     "output_type": "execute_result"
    }
   ],
   "source": [
    "c1.isalnum()"
   ]
  },
  {
   "cell_type": "code",
   "execution_count": 34,
   "id": "d4a17ea0",
   "metadata": {},
   "outputs": [
    {
     "data": {
      "text/plain": [
       "'elon musk soon holds twiter'"
      ]
     },
     "execution_count": 34,
     "metadata": {},
     "output_type": "execute_result"
    }
   ],
   "source": [
    "d1"
   ]
  },
  {
   "cell_type": "code",
   "execution_count": 36,
   "id": "707694e0",
   "metadata": {},
   "outputs": [
    {
     "data": {
      "text/plain": [
       "True"
      ]
     },
     "execution_count": 36,
     "metadata": {},
     "output_type": "execute_result"
    }
   ],
   "source": [
    "d1.startswith(\"elon\")"
   ]
  },
  {
   "cell_type": "code",
   "execution_count": 37,
   "id": "7f7092e5",
   "metadata": {},
   "outputs": [
    {
     "data": {
      "text/plain": [
       "False"
      ]
     },
     "execution_count": 37,
     "metadata": {},
     "output_type": "execute_result"
    }
   ],
   "source": [
    "d1.startswith(\"Elon\")"
   ]
  },
  {
   "cell_type": "code",
   "execution_count": 39,
   "id": "bed55aca",
   "metadata": {},
   "outputs": [
    {
     "data": {
      "text/plain": [
       "True"
      ]
     },
     "execution_count": 39,
     "metadata": {},
     "output_type": "execute_result"
    }
   ],
   "source": [
    "d1.endswith(\"twiter\")"
   ]
  },
  {
   "cell_type": "code",
   "execution_count": 40,
   "id": "b6057a66",
   "metadata": {},
   "outputs": [
    {
     "data": {
      "text/plain": [
       "False"
      ]
     },
     "execution_count": 40,
     "metadata": {},
     "output_type": "execute_result"
    }
   ],
   "source": [
    "d1.endswith(\"facebook\")"
   ]
  },
  {
   "cell_type": "code",
   "execution_count": 41,
   "id": "f22d151a",
   "metadata": {},
   "outputs": [],
   "source": [
    "word=\"Elon Musk launched AI Car Tesla\""
   ]
  },
  {
   "cell_type": "code",
   "execution_count": 42,
   "id": "82aec60a",
   "metadata": {},
   "outputs": [
    {
     "data": {
      "text/plain": [
       "'Elon Musk launched AI Car Tesla'"
      ]
     },
     "execution_count": 42,
     "metadata": {},
     "output_type": "execute_result"
    }
   ],
   "source": [
    "word"
   ]
  },
  {
   "cell_type": "code",
   "execution_count": 43,
   "id": "3d7b9260",
   "metadata": {},
   "outputs": [
    {
     "data": {
      "text/plain": [
       "31"
      ]
     },
     "execution_count": 43,
     "metadata": {},
     "output_type": "execute_result"
    }
   ],
   "source": [
    "len(word)"
   ]
  },
  {
   "cell_type": "code",
   "execution_count": 44,
   "id": "f6a99ae2",
   "metadata": {},
   "outputs": [
    {
     "data": {
      "text/plain": [
       "22"
      ]
     },
     "execution_count": 44,
     "metadata": {},
     "output_type": "execute_result"
    }
   ],
   "source": [
    "word.find(\"Car\")"
   ]
  },
  {
   "cell_type": "code",
   "execution_count": 45,
   "id": "69d081af",
   "metadata": {},
   "outputs": [
    {
     "data": {
      "text/plain": [
       "5"
      ]
     },
     "execution_count": 45,
     "metadata": {},
     "output_type": "execute_result"
    }
   ],
   "source": [
    "word.find(\"Musk\")"
   ]
  },
  {
   "cell_type": "code",
   "execution_count": 46,
   "id": "dd249310",
   "metadata": {},
   "outputs": [
    {
     "data": {
      "text/plain": [
       "19"
      ]
     },
     "execution_count": 46,
     "metadata": {},
     "output_type": "execute_result"
    }
   ],
   "source": [
    "word.find(\"AI\", 16, 30)"
   ]
  },
  {
   "cell_type": "code",
   "execution_count": 47,
   "id": "7d9d82fe",
   "metadata": {},
   "outputs": [
    {
     "data": {
      "text/plain": [
       "2"
      ]
     },
     "execution_count": 47,
     "metadata": {},
     "output_type": "execute_result"
    }
   ],
   "source": [
    "word.count(\"s\")"
   ]
  },
  {
   "cell_type": "code",
   "execution_count": 48,
   "id": "a43f8ae7",
   "metadata": {},
   "outputs": [
    {
     "data": {
      "text/plain": [
       "3"
      ]
     },
     "execution_count": 48,
     "metadata": {},
     "output_type": "execute_result"
    }
   ],
   "source": [
    "word.count(\"l\")"
   ]
  },
  {
   "cell_type": "code",
   "execution_count": 49,
   "id": "c4fe9cd9",
   "metadata": {},
   "outputs": [
    {
     "data": {
      "text/plain": [
       "3"
      ]
     },
     "execution_count": 49,
     "metadata": {},
     "output_type": "execute_result"
    }
   ],
   "source": [
    "word.count(\"a\")"
   ]
  },
  {
   "cell_type": "code",
   "execution_count": 50,
   "id": "6d32b4d7",
   "metadata": {},
   "outputs": [
    {
     "data": {
      "text/plain": [
       "'Elon Musk launched AI Car Facebook'"
      ]
     },
     "execution_count": 50,
     "metadata": {},
     "output_type": "execute_result"
    }
   ],
   "source": [
    "word.replace(\"Tesla\", \"Facebook\")"
   ]
  },
  {
   "cell_type": "code",
   "execution_count": 51,
   "id": "9b8b3aa5",
   "metadata": {},
   "outputs": [],
   "source": [
    "text=[\"NASA\", \"is\", \"building\", \"hotel\", \"in\", \"Mars\"]"
   ]
  },
  {
   "cell_type": "code",
   "execution_count": 52,
   "id": "a7d751a9",
   "metadata": {},
   "outputs": [
    {
     "data": {
      "text/plain": [
       "['NASA', 'is', 'building', 'hotel', 'in', 'Mars']"
      ]
     },
     "execution_count": 52,
     "metadata": {},
     "output_type": "execute_result"
    }
   ],
   "source": [
    "text"
   ]
  },
  {
   "cell_type": "code",
   "execution_count": 53,
   "id": "3b61db98",
   "metadata": {},
   "outputs": [
    {
     "data": {
      "text/plain": [
       "'NASAisbuildinghotelinMars'"
      ]
     },
     "execution_count": 53,
     "metadata": {},
     "output_type": "execute_result"
    }
   ],
   "source": [
    "\"\".join(text)"
   ]
  },
  {
   "cell_type": "code",
   "execution_count": 54,
   "id": "b48535cd",
   "metadata": {},
   "outputs": [
    {
     "data": {
      "text/plain": [
       "'NASA is building hotel in Mars'"
      ]
     },
     "execution_count": 54,
     "metadata": {},
     "output_type": "execute_result"
    }
   ],
   "source": [
    "\" \".join(text)"
   ]
  },
  {
   "cell_type": "code",
   "execution_count": 55,
   "id": "de6c0ae4",
   "metadata": {},
   "outputs": [
    {
     "name": "stdout",
     "output_type": "stream",
     "text": [
      "The two strings are matching\n"
     ]
    }
   ],
   "source": [
    "string1=\"Tesla\"\n",
    "string2=\"tesla\"\n",
    "\n",
    "if string1.casefold()==string2.casefold():\n",
    "    print(\"The two strings are matching\")\n",
    "else:\n",
    "    print(\"The strings are not matching\")"
   ]
  },
  {
   "cell_type": "markdown",
   "id": "5cbbd83b",
   "metadata": {},
   "source": [
    "Python uses Cstyle formatting"
   ]
  },
  {
   "cell_type": "markdown",
   "id": "4b7d28f3",
   "metadata": {},
   "source": [
    "%s = string\n",
    "%d = integar\n",
    "%f = float"
   ]
  },
  {
   "cell_type": "code",
   "execution_count": 66,
   "id": "ccf96f65",
   "metadata": {},
   "outputs": [
    {
     "name": "stdout",
     "output_type": "stream",
     "text": [
      "I like to eat apples , mango and grapes\n"
     ]
    }
   ],
   "source": [
    "fruit1=\"apples\"\n",
    "fruit2=\"mango\"\n",
    "fruit3=\"grapes\"\n",
    "\n",
    "print(\"I like to eat %s , %s and %s\" % (fruit1,fruit2,fruit3))"
   ]
  },
  {
   "cell_type": "markdown",
   "id": "d1f8226d",
   "metadata": {},
   "source": [
    "String.format functions"
   ]
  },
  {
   "cell_type": "markdown",
   "id": "686ebe30",
   "metadata": {},
   "source": [
    "it is advance format"
   ]
  },
  {
   "cell_type": "code",
   "execution_count": 68,
   "id": "2a54b867",
   "metadata": {},
   "outputs": [
    {
     "name": "stdout",
     "output_type": "stream",
     "text": [
      "People generally take coke with pizza\n"
     ]
    }
   ],
   "source": [
    "print(\"People generally take {} with {}\".format(\"coke\",\"pizza\"))"
   ]
  },
  {
   "cell_type": "code",
   "execution_count": 69,
   "id": "101db314",
   "metadata": {},
   "outputs": [
    {
     "name": "stdout",
     "output_type": "stream",
     "text": [
      "People generally take coke with pizza\n"
     ]
    }
   ],
   "source": [
    "print(\"People generally take {0} with {1}\".format(\"coke\",\"pizza\"))"
   ]
  },
  {
   "cell_type": "code",
   "execution_count": 70,
   "id": "86337995",
   "metadata": {},
   "outputs": [
    {
     "name": "stdout",
     "output_type": "stream",
     "text": [
      "People generally take pizza with coke\n"
     ]
    }
   ],
   "source": [
    "print(\"People generally take {1} with {0}\".format(\"coke\",\"pizza\"))"
   ]
  },
  {
   "cell_type": "code",
   "execution_count": 71,
   "id": "9b429b29",
   "metadata": {},
   "outputs": [
    {
     "name": "stdout",
     "output_type": "stream",
     "text": [
      "have two kids kapil and kiu\n"
     ]
    }
   ],
   "source": [
    "print(\"have two kids {} and {}\".format (\"kapil\", \"kiu\"))"
   ]
  },
  {
   "cell_type": "code",
   "execution_count": 72,
   "id": "7e5a047c",
   "metadata": {},
   "outputs": [
    {
     "name": "stdout",
     "output_type": "stream",
     "text": [
      "have two kids kapil and kiu\n"
     ]
    }
   ],
   "source": [
    "print(\"have two kids {0} and {1}\".format (\"kapil\", \"kiu\"))"
   ]
  },
  {
   "cell_type": "code",
   "execution_count": 73,
   "id": "bebce42e",
   "metadata": {},
   "outputs": [
    {
     "name": "stdout",
     "output_type": "stream",
     "text": [
      "have two kids kiu and kapil\n"
     ]
    }
   ],
   "source": [
    "print(\"have two kids {1} and {0}\".format (\"kapil\", \"kiu\"))"
   ]
  },
  {
   "cell_type": "markdown",
   "id": "7078574e",
   "metadata": {},
   "source": [
    "List comprehension"
   ]
  },
  {
   "cell_type": "code",
   "execution_count": 75,
   "id": "91f4aea9",
   "metadata": {},
   "outputs": [],
   "source": [
    "p=[i for i in [11,12,13,14,15]]"
   ]
  },
  {
   "cell_type": "code",
   "execution_count": 76,
   "id": "0fd653d2",
   "metadata": {},
   "outputs": [
    {
     "data": {
      "text/plain": [
       "[11, 12, 13, 14, 15]"
      ]
     },
     "execution_count": 76,
     "metadata": {},
     "output_type": "execute_result"
    }
   ],
   "source": [
    "p"
   ]
  },
  {
   "cell_type": "code",
   "execution_count": 77,
   "id": "cdee15e0",
   "metadata": {},
   "outputs": [],
   "source": [
    "k=[i for i in range(0,10)]"
   ]
  },
  {
   "cell_type": "code",
   "execution_count": 78,
   "id": "bc7a5da8",
   "metadata": {},
   "outputs": [
    {
     "data": {
      "text/plain": [
       "[0, 1, 2, 3, 4, 5, 6, 7, 8, 9]"
      ]
     },
     "execution_count": 78,
     "metadata": {},
     "output_type": "execute_result"
    }
   ],
   "source": [
    "k"
   ]
  },
  {
   "cell_type": "code",
   "execution_count": 79,
   "id": "0306f045",
   "metadata": {},
   "outputs": [],
   "source": [
    "p=[i for i in range(0,10,2)]"
   ]
  },
  {
   "cell_type": "code",
   "execution_count": 80,
   "id": "1b2b81ed",
   "metadata": {},
   "outputs": [
    {
     "data": {
      "text/plain": [
       "[0, 2, 4, 6, 8]"
      ]
     },
     "execution_count": 80,
     "metadata": {},
     "output_type": "execute_result"
    }
   ],
   "source": [
    "p"
   ]
  },
  {
   "cell_type": "code",
   "execution_count": 81,
   "id": "761b6c43",
   "metadata": {},
   "outputs": [],
   "source": [
    "j=[i for i in range(0,10) if i%2==0]"
   ]
  },
  {
   "cell_type": "code",
   "execution_count": 82,
   "id": "0aed4f1e",
   "metadata": {},
   "outputs": [
    {
     "data": {
      "text/plain": [
       "[0, 2, 4, 6, 8]"
      ]
     },
     "execution_count": 82,
     "metadata": {},
     "output_type": "execute_result"
    }
   ],
   "source": [
    "j"
   ]
  },
  {
   "cell_type": "code",
   "execution_count": 83,
   "id": "7aa6b2be",
   "metadata": {},
   "outputs": [],
   "source": [
    "j=[i for i in range(0,10) if i%2==1]"
   ]
  },
  {
   "cell_type": "code",
   "execution_count": 84,
   "id": "8e5c49de",
   "metadata": {},
   "outputs": [
    {
     "data": {
      "text/plain": [
       "[1, 3, 5, 7, 9]"
      ]
     },
     "execution_count": 84,
     "metadata": {},
     "output_type": "execute_result"
    }
   ],
   "source": [
    "j"
   ]
  },
  {
   "cell_type": "code",
   "execution_count": null,
   "id": "80916fac",
   "metadata": {},
   "outputs": [],
   "source": []
  },
  {
   "cell_type": "code",
   "execution_count": null,
   "id": "85e3b0a0",
   "metadata": {},
   "outputs": [],
   "source": []
  },
  {
   "cell_type": "code",
   "execution_count": null,
   "id": "8baa7880",
   "metadata": {},
   "outputs": [],
   "source": []
  },
  {
   "cell_type": "code",
   "execution_count": null,
   "id": "8424706a",
   "metadata": {},
   "outputs": [],
   "source": []
  },
  {
   "cell_type": "code",
   "execution_count": null,
   "id": "469b2286",
   "metadata": {},
   "outputs": [],
   "source": []
  },
  {
   "cell_type": "code",
   "execution_count": null,
   "id": "dc4b3d0f",
   "metadata": {},
   "outputs": [],
   "source": []
  },
  {
   "cell_type": "code",
   "execution_count": null,
   "id": "00c61886",
   "metadata": {},
   "outputs": [],
   "source": []
  }
 ],
 "metadata": {
  "kernelspec": {
   "display_name": "Python 3 (ipykernel)",
   "language": "python",
   "name": "python3"
  },
  "language_info": {
   "codemirror_mode": {
    "name": "ipython",
    "version": 3
   },
   "file_extension": ".py",
   "mimetype": "text/x-python",
   "name": "python",
   "nbconvert_exporter": "python",
   "pygments_lexer": "ipython3",
   "version": "3.9.7"
  }
 },
 "nbformat": 4,
 "nbformat_minor": 5
}
